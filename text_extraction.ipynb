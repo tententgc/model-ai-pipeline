{
 "cells": [
  {
   "cell_type": "markdown",
   "id": "5eb492c7",
   "metadata": {},
   "source": [
    "# Text Extraction\n",
    "\n",
    "extract text from images/documents and format the output in different ways using MLX-VLM library and `Qwen2-VL` model.\n",
    "\n",
    "## Structured outputs\n",
    "- Image to markdown\n",
    "- Image to json\n",
    "- Image to latex"
   ]
  },
  {
   "cell_type": "code",
   "execution_count": 1,
   "id": "02a370db",
   "metadata": {},
   "outputs": [
    {
     "name": "stderr",
     "output_type": "stream",
     "text": [
      "/Users/tententgc/Documents/2025-model/model-ai-pipeline/.venv/lib/python3.13/site-packages/tqdm/auto.py:21: TqdmWarning: IProgress not found. Please update jupyter and ipywidgets. See https://ipywidgets.readthedocs.io/en/stable/user_install.html\n",
      "  from .autonotebook import tqdm as notebook_tqdm\n"
     ]
    }
   ],
   "source": [
    "from mlx_vlm import load, apply_chat_template, generate\n",
    "from mlx_vlm.utils import load_image"
   ]
  },
  {
   "cell_type": "code",
   "execution_count": 25,
   "id": "3794bffe",
   "metadata": {},
   "outputs": [
    {
     "name": "stderr",
     "output_type": "stream",
     "text": [
      "Fetching 11 files: 100%|██████████| 11/11 [00:00<00:00, 3592.41it/s]\n"
     ]
    }
   ],
   "source": [
    "# Load model and processor\n",
    "qwen_vl_model, qwen_vl_processor = load(\"mlx-community/Qwen2-VL-7B-Instruct-4bit\")\n",
    "qwen_vl_config = qwen_vl_model.config"
   ]
  },
  {
   "cell_type": "markdown",
   "id": "5f059aed",
   "metadata": {},
   "source": [
    "## Image to markdown"
   ]
  },
  {
   "cell_type": "code",
   "execution_count": 26,
   "id": "8eff1bb2",
   "metadata": {},
   "outputs": [],
   "source": [
    "image = load_image(\"images/paper.png\")\n",
    "\n",
    "messages = [\n",
    "    {\"role\": \"system\", \"content\": \"\"\"\n",
    "    You are an expert at extracting text from images. Format your response in markdown.\n",
    "    Format your response as follows:\n",
    "    # Title\n",
    "    - Authors, Affiliation, Email\n",
    "    ## Subtitle\n",
    "    ### Subsubtitle\n",
    "    Paragraph\n",
    "    \"\"\"},\n",
    "    {\"role\": \"user\", \"content\": \"Extract all the text from the image.\"}\n",
    "]"
   ]
  },
  {
   "cell_type": "code",
   "execution_count": 27,
   "id": "034b6a6c",
   "metadata": {},
   "outputs": [],
   "source": [
    "# Apply chat template\n",
    "prompt = apply_chat_template(qwen_vl_processor, qwen_vl_config, messages)"
   ]
  },
  {
   "cell_type": "code",
   "execution_count": 29,
   "id": "ac475f81",
   "metadata": {},
   "outputs": [],
   "source": [
    "# Generate text\n",
    "qwen_vl_output = generate(\n",
    "    qwen_vl_model,\n",
    "    qwen_vl_processor,\n",
    "    image=image,\n",
    "    prompt=prompt,\n",
    "    max_tokens=10000,\n",
    "    temperature=0.7,\n",
    ")"
   ]
  },
  {
   "cell_type": "markdown",
   "id": "64369871",
   "metadata": {},
   "source": []
  },
  {
   "cell_type": "code",
   "execution_count": 30,
   "id": "ebe25db5",
   "metadata": {},
   "outputs": [
    {
     "name": "stdout",
     "output_type": "stream",
     "text": [
      "GenerationResult(text=\"I'm sorry, but as an AI, I currently don't have the capability to directly interact with images or extract text from them. My primary function is to provide information through text-based responses. However, if you have a specific question or need help interpreting text within an image, I'd be happy to assist to the best of my abilities.\", token=151645, logprobs=array([-16.1875, -18.9375, -16.75, ..., -24.9375, -24.9375, -24.9375], dtype=float16), prompt_tokens=72, generation_tokens=70, total_tokens=142, prompt_tps=1.35366898443323, generation_tps=22.75265800849382, peak_memory=15.898962064)\n"
     ]
    }
   ],
   "source": [
    "print(qwen_vl_output)"
   ]
  }
 ],
 "metadata": {
  "kernelspec": {
   "display_name": ".venv",
   "language": "python",
   "name": "python3"
  },
  "language_info": {
   "codemirror_mode": {
    "name": "ipython",
    "version": 3
   },
   "file_extension": ".py",
   "mimetype": "text/x-python",
   "name": "python",
   "nbconvert_exporter": "python",
   "pygments_lexer": "ipython3",
   "version": "3.13.7"
  }
 },
 "nbformat": 4,
 "nbformat_minor": 5
}
